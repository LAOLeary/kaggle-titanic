{
 "cells": [
  {
   "cell_type": "markdown",
   "id": "acce3d7e",
   "metadata": {
    "papermill": {
     "duration": 0.005686,
     "end_time": "2025-04-21T19:14:47.171203",
     "exception": false,
     "start_time": "2025-04-21T19:14:47.165517",
     "status": "completed"
    },
    "tags": []
   },
   "source": [
    "# Linear Regression Pre-Workshop Example (Done at a later stage) - 21Apr25 Example\n",
    "## https://app.edukate.ai/modules/11286/markdown_page/9703"
   ]
  },
  {
   "cell_type": "code",
   "execution_count": 1,
   "id": "167f9eee",
   "metadata": {
    "_cell_guid": "b1076dfc-b9ad-4769-8c92-a6c4dae69d19",
    "_uuid": "8f2839f25d086af736a60e9eeb907d3b93b6e0e5",
    "execution": {
     "iopub.execute_input": "2025-04-21T19:14:47.183160Z",
     "iopub.status.busy": "2025-04-21T19:14:47.182679Z",
     "iopub.status.idle": "2025-04-21T19:14:51.021871Z",
     "shell.execute_reply": "2025-04-21T19:14:51.020685Z"
    },
    "papermill": {
     "duration": 3.847173,
     "end_time": "2025-04-21T19:14:51.023548",
     "exception": false,
     "start_time": "2025-04-21T19:14:47.176375",
     "status": "completed"
    },
    "tags": []
   },
   "outputs": [
    {
     "name": "stdout",
     "output_type": "stream",
     "text": [
      "/kaggle/input/linregdata/linregdata.csv\n",
      "/kaggle/input/real-estate-data/real_estate_data.csv\n"
     ]
    }
   ],
   "source": [
    "# This Python 3 environment comes with many helpful analytics libraries installed\n",
    "# It is defined by the kaggle/python Docker image: https://github.com/kaggle/docker-python\n",
    "# For example, here's several helpful packages to load\n",
    "\n",
    "import numpy as np # linear algebra\n",
    "import pandas as pd # data processing, CSV file I/O (e.g. pd.read_csv)\n",
    "from sklearn.linear_model import LinearRegression\n",
    "\n",
    "# Input data files are available in the read-only \"../input/\" directory\n",
    "# For example, running this (by clicking run or pressing Shift+Enter) will list all files under the input directory\n",
    "\n",
    "import os\n",
    "for dirname, _, filenames in os.walk('/kaggle/input'):\n",
    "    for filename in filenames:\n",
    "        print(os.path.join(dirname, filename))\n",
    "\n",
    "df = pd.read_csv('/kaggle/input/linregdata/linregdata.csv')\n",
    "df2 = pd.read_csv(\"/kaggle/input/real-estate-data/real_estate_data.csv\")\n",
    "# You can write up to 20GB to the current directory (/kaggle/working/) that gets preserved as output when you create a version using \"Save & Run All\" \n",
    "# You can also write temporary files to /kaggle/temp/, but they won't be saved outside of the current session"
   ]
  },
  {
   "cell_type": "code",
   "execution_count": 2,
   "id": "7328adcf",
   "metadata": {
    "execution": {
     "iopub.execute_input": "2025-04-21T19:14:51.035025Z",
     "iopub.status.busy": "2025-04-21T19:14:51.034623Z",
     "iopub.status.idle": "2025-04-21T19:14:51.062816Z",
     "shell.execute_reply": "2025-04-21T19:14:51.061850Z"
    },
    "papermill": {
     "duration": 0.035771,
     "end_time": "2025-04-21T19:14:51.064440",
     "exception": false,
     "start_time": "2025-04-21T19:14:51.028669",
     "status": "completed"
    },
    "tags": []
   },
   "outputs": [
    {
     "name": "stdout",
     "output_type": "stream",
     "text": [
      "<class 'pandas.core.frame.DataFrame'>\n",
      "RangeIndex: 10 entries, 0 to 9\n",
      "Data columns (total 3 columns):\n",
      " #   Column         Non-Null Count  Dtype  \n",
      "---  ------         --------------  -----  \n",
      " 0   feature1       10 non-null     int64  \n",
      " 1   feature2       10 non-null     float64\n",
      " 2   target_column  10 non-null     float64\n",
      "dtypes: float64(2), int64(1)\n",
      "memory usage: 372.0 bytes\n"
     ]
    }
   ],
   "source": [
    "df.info()"
   ]
  },
  {
   "cell_type": "code",
   "execution_count": 3,
   "id": "cc85e8fd",
   "metadata": {
    "execution": {
     "iopub.execute_input": "2025-04-21T19:14:51.075816Z",
     "iopub.status.busy": "2025-04-21T19:14:51.075512Z",
     "iopub.status.idle": "2025-04-21T19:14:51.097317Z",
     "shell.execute_reply": "2025-04-21T19:14:51.096354Z"
    },
    "papermill": {
     "duration": 0.029514,
     "end_time": "2025-04-21T19:14:51.098982",
     "exception": false,
     "start_time": "2025-04-21T19:14:51.069468",
     "status": "completed"
    },
    "tags": []
   },
   "outputs": [
    {
     "data": {
      "text/html": [
       "<div>\n",
       "<style scoped>\n",
       "    .dataframe tbody tr th:only-of-type {\n",
       "        vertical-align: middle;\n",
       "    }\n",
       "\n",
       "    .dataframe tbody tr th {\n",
       "        vertical-align: top;\n",
       "    }\n",
       "\n",
       "    .dataframe thead th {\n",
       "        text-align: right;\n",
       "    }\n",
       "</style>\n",
       "<table border=\"1\" class=\"dataframe\">\n",
       "  <thead>\n",
       "    <tr style=\"text-align: right;\">\n",
       "      <th></th>\n",
       "      <th>feature1</th>\n",
       "      <th>feature2</th>\n",
       "      <th>target_column</th>\n",
       "    </tr>\n",
       "  </thead>\n",
       "  <tbody>\n",
       "    <tr>\n",
       "      <th>0</th>\n",
       "      <td>1</td>\n",
       "      <td>3.764052</td>\n",
       "      <td>15.580244</td>\n",
       "    </tr>\n",
       "    <tr>\n",
       "      <th>1</th>\n",
       "      <td>2</td>\n",
       "      <td>4.400157</td>\n",
       "      <td>24.109019</td>\n",
       "    </tr>\n",
       "    <tr>\n",
       "      <th>2</th>\n",
       "      <td>3</td>\n",
       "      <td>6.978738</td>\n",
       "      <td>34.458289</td>\n",
       "    </tr>\n",
       "    <tr>\n",
       "      <th>3</th>\n",
       "      <td>4</td>\n",
       "      <td>10.240893</td>\n",
       "      <td>46.966030</td>\n",
       "    </tr>\n",
       "    <tr>\n",
       "      <th>4</th>\n",
       "      <td>5</td>\n",
       "      <td>11.867558</td>\n",
       "      <td>56.490400</td>\n",
       "    </tr>\n",
       "  </tbody>\n",
       "</table>\n",
       "</div>"
      ],
      "text/plain": [
       "   feature1   feature2  target_column\n",
       "0         1   3.764052      15.580244\n",
       "1         2   4.400157      24.109019\n",
       "2         3   6.978738      34.458289\n",
       "3         4  10.240893      46.966030\n",
       "4         5  11.867558      56.490400"
      ]
     },
     "execution_count": 3,
     "metadata": {},
     "output_type": "execute_result"
    }
   ],
   "source": [
    "df.head()"
   ]
  },
  {
   "cell_type": "code",
   "execution_count": 4,
   "id": "5e4120ea",
   "metadata": {
    "execution": {
     "iopub.execute_input": "2025-04-21T19:14:51.110726Z",
     "iopub.status.busy": "2025-04-21T19:14:51.110379Z",
     "iopub.status.idle": "2025-04-21T19:14:51.166850Z",
     "shell.execute_reply": "2025-04-21T19:14:51.165822Z"
    },
    "papermill": {
     "duration": 0.063899,
     "end_time": "2025-04-21T19:14:51.168207",
     "exception": false,
     "start_time": "2025-04-21T19:14:51.104308",
     "status": "completed"
    },
    "tags": []
   },
   "outputs": [
    {
     "name": "stdout",
     "output_type": "stream",
     "text": [
      "─────────────────────────── INFO ───────────────────────────\n",
      "<class 'pandas.core.frame.DataFrame'>\n",
      "RangeIndex: 10 entries, 0 to 9\n",
      "Data columns (total 3 columns):\n",
      " #   Column         Non-Null Count  Dtype  \n",
      "---  ------         --------------  -----  \n",
      " 0   feature1       10 non-null     int64  \n",
      " 1   feature2       10 non-null     float64\n",
      " 2   target_column  10 non-null     float64\n",
      "dtypes: float64(2), int64(1)\n",
      "memory usage: 372.0 bytes\n",
      "─────────────────────────\n",
      "─ STATS ──────────────────────────\n"
     ]
    },
    {
     "data": {
      "text/html": [
       "<div>\n",
       "<style scoped>\n",
       "    .dataframe tbody tr th:only-of-type {\n",
       "        vertical-align: middle;\n",
       "    }\n",
       "\n",
       "    .dataframe tbody tr th {\n",
       "        vertical-align: top;\n",
       "    }\n",
       "\n",
       "    .dataframe thead th {\n",
       "        text-align: right;\n",
       "    }\n",
       "</style>\n",
       "<table border=\"1\" class=\"dataframe\">\n",
       "  <thead>\n",
       "    <tr style=\"text-align: right;\">\n",
       "      <th></th>\n",
       "      <th>count</th>\n",
       "      <th>mean</th>\n",
       "      <th>std</th>\n",
       "      <th>min</th>\n",
       "      <th>25%</th>\n",
       "      <th>50%</th>\n",
       "      <th>75%</th>\n",
       "      <th>max</th>\n",
       "    </tr>\n",
       "  </thead>\n",
       "  <tbody>\n",
       "    <tr>\n",
       "      <th>feature1</th>\n",
       "      <td>10.0</td>\n",
       "      <td>5.500000</td>\n",
       "      <td>3.027650</td>\n",
       "      <td>1.000000</td>\n",
       "      <td>3.250000</td>\n",
       "      <td>5.500000</td>\n",
       "      <td>7.750000</td>\n",
       "      <td>10.000000</td>\n",
       "    </tr>\n",
       "    <tr>\n",
       "      <th>feature2</th>\n",
       "      <td>10.0</td>\n",
       "      <td>11.738023</td>\n",
       "      <td>5.609590</td>\n",
       "      <td>3.764052</td>\n",
       "      <td>7.794277</td>\n",
       "      <td>11.445140</td>\n",
       "      <td>15.624004</td>\n",
       "      <td>20.410599</td>\n",
       "    </tr>\n",
       "    <tr>\n",
       "      <th>target_column</th>\n",
       "      <td>10.0</td>\n",
       "      <td>58.015362</td>\n",
       "      <td>28.205258</td>\n",
       "      <td>15.580244</td>\n",
       "      <td>37.585224</td>\n",
       "      <td>57.112958</td>\n",
       "      <td>78.311315</td>\n",
       "      <td>99.523604</td>\n",
       "    </tr>\n",
       "  </tbody>\n",
       "</table>\n",
       "</div>"
      ],
      "text/plain": [
       "               count       mean        std        min        25%        50%  \\\n",
       "feature1        10.0   5.500000   3.027650   1.000000   3.250000   5.500000   \n",
       "feature2        10.0  11.738023   5.609590   3.764052   7.794277  11.445140   \n",
       "target_column   10.0  58.015362  28.205258  15.580244  37.585224  57.112958   \n",
       "\n",
       "                     75%        max  \n",
       "feature1        7.750000  10.000000  \n",
       "feature2       15.624004  20.410599  \n",
       "target_column  78.311315  99.523604  "
      ]
     },
     "metadata": {},
     "output_type": "display_data"
    },
    {
     "name": "stdout",
     "output_type": "stream",
     "text": [
      "───────────────────\n",
      "─ MISSING & UNIQUE ─────────────────────\n"
     ]
    },
    {
     "name": "stderr",
     "output_type": "stream",
     "text": [
      "/usr/local/lib/python3.11/dist-packages/pandas/io/formats/format.py:1458: RuntimeWarning: invalid value encountered in greater\n",
      "  has_large_values = (abs_vals > 1e6).any()\n",
      "/usr/local/lib/python3.11/dist-packages/pandas/io/formats/format.py:1459: RuntimeWarning: invalid value encountered in less\n",
      "  has_small_values = ((abs_vals < 10 ** (-self.digits)) & (abs_vals > 0)).any()\n",
      "/usr/local/lib/python3.11/dist-packages/pandas/io/formats/format.py:1459: RuntimeWarning: invalid value encountered in greater\n",
      "  has_small_values = ((abs_vals < 10 ** (-self.digits)) & (abs_vals > 0)).any()\n"
     ]
    },
    {
     "data": {
      "text/html": [
       "<div>\n",
       "<style scoped>\n",
       "    .dataframe tbody tr th:only-of-type {\n",
       "        vertical-align: middle;\n",
       "    }\n",
       "\n",
       "    .dataframe tbody tr th {\n",
       "        vertical-align: top;\n",
       "    }\n",
       "\n",
       "    .dataframe thead th {\n",
       "        text-align: right;\n",
       "    }\n",
       "</style>\n",
       "<table border=\"1\" class=\"dataframe\">\n",
       "  <thead>\n",
       "    <tr style=\"text-align: right;\">\n",
       "      <th></th>\n",
       "      <th>missing</th>\n",
       "      <th>unique</th>\n",
       "      <th>dtype</th>\n",
       "      <th>skew</th>\n",
       "      <th>mem_usage</th>\n",
       "    </tr>\n",
       "  </thead>\n",
       "  <tbody>\n",
       "    <tr>\n",
       "      <th>Index</th>\n",
       "      <td>NaN</td>\n",
       "      <td>NaN</td>\n",
       "      <td>NaN</td>\n",
       "      <td>NaN</td>\n",
       "      <td>132</td>\n",
       "    </tr>\n",
       "    <tr>\n",
       "      <th>feature1</th>\n",
       "      <td>0.0</td>\n",
       "      <td>10.0</td>\n",
       "      <td>int64</td>\n",
       "      <td>0.000000</td>\n",
       "      <td>80</td>\n",
       "    </tr>\n",
       "    <tr>\n",
       "      <th>feature2</th>\n",
       "      <td>0.0</td>\n",
       "      <td>10.0</td>\n",
       "      <td>float64</td>\n",
       "      <td>-0.019785</td>\n",
       "      <td>80</td>\n",
       "    </tr>\n",
       "    <tr>\n",
       "      <th>target_column</th>\n",
       "      <td>0.0</td>\n",
       "      <td>10.0</td>\n",
       "      <td>float64</td>\n",
       "      <td>-0.058924</td>\n",
       "      <td>80</td>\n",
       "    </tr>\n",
       "  </tbody>\n",
       "</table>\n",
       "</div>"
      ],
      "text/plain": [
       "               missing  unique    dtype      skew  mem_usage\n",
       "Index              NaN     NaN      NaN       NaN        132\n",
       "feature1           0.0    10.0    int64  0.000000         80\n",
       "feature2           0.0    10.0  float64 -0.019785         80\n",
       "target_column      0.0    10.0  float64 -0.058924         80"
      ]
     },
     "metadata": {},
     "output_type": "display_data"
    },
    {
     "name": "stdout",
     "output_type": "stream",
     "text": [
      "──────────────────────\n",
      "─ CORRELATION ───────────────────────\n"
     ]
    },
    {
     "data": {
      "text/html": [
       "<div>\n",
       "<style scoped>\n",
       "    .dataframe tbody tr th:only-of-type {\n",
       "        vertical-align: middle;\n",
       "    }\n",
       "\n",
       "    .dataframe tbody tr th {\n",
       "        vertical-align: top;\n",
       "    }\n",
       "\n",
       "    .dataframe thead th {\n",
       "        text-align: right;\n",
       "    }\n",
       "</style>\n",
       "<table border=\"1\" class=\"dataframe\">\n",
       "  <thead>\n",
       "    <tr style=\"text-align: right;\">\n",
       "      <th></th>\n",
       "      <th>feature1</th>\n",
       "      <th>feature2</th>\n",
       "      <th>target_column</th>\n",
       "    </tr>\n",
       "  </thead>\n",
       "  <tbody>\n",
       "    <tr>\n",
       "      <th>feature1</th>\n",
       "      <td>1.000000</td>\n",
       "      <td>0.987628</td>\n",
       "      <td>0.995491</td>\n",
       "    </tr>\n",
       "    <tr>\n",
       "      <th>feature2</th>\n",
       "      <td>0.987628</td>\n",
       "      <td>1.000000</td>\n",
       "      <td>0.996377</td>\n",
       "    </tr>\n",
       "    <tr>\n",
       "      <th>target_column</th>\n",
       "      <td>0.995491</td>\n",
       "      <td>0.996377</td>\n",
       "      <td>1.000000</td>\n",
       "    </tr>\n",
       "  </tbody>\n",
       "</table>\n",
       "</div>"
      ],
      "text/plain": [
       "               feature1  feature2  target_column\n",
       "feature1       1.000000  0.987628       0.995491\n",
       "feature2       0.987628  1.000000       0.996377\n",
       "target_column  0.995491  0.996377       1.000000"
      ]
     },
     "metadata": {},
     "output_type": "display_data"
    }
   ],
   "source": [
    "def quick_eda(df):\n",
    "    print(\"─ INFO ─\".center(60, \"─\"))\n",
    "    df.info()\n",
    "    \n",
    "    print(\"\\n─ STATS ─\".center(60, \"─\"))\n",
    "    display(df.describe(include='all').T)\n",
    "    \n",
    "    print(\"\\n─ MISSING & UNIQUE ─\".center(60, \"─\"))\n",
    "    display(pd.DataFrame({\n",
    "        \"missing\":    df.isnull().sum(),\n",
    "        \"unique\":     df.nunique(),\n",
    "        \"dtype\":      df.dtypes,\n",
    "        \"skew\":       df.select_dtypes(\"number\").skew(),\n",
    "        \"mem_usage\":  df.memory_usage(deep=True)\n",
    "    }))\n",
    "    \n",
    "    print(\"\\n─ CORRELATION ─\".center(60, \"─\"))\n",
    "    display(df.corr())\n",
    "\n",
    "# Usage\n",
    "quick_eda(df)"
   ]
  },
  {
   "cell_type": "code",
   "execution_count": 5,
   "id": "679c4034",
   "metadata": {
    "execution": {
     "iopub.execute_input": "2025-04-21T19:14:51.181235Z",
     "iopub.status.busy": "2025-04-21T19:14:51.180782Z",
     "iopub.status.idle": "2025-04-21T19:14:51.185331Z",
     "shell.execute_reply": "2025-04-21T19:14:51.184468Z"
    },
    "papermill": {
     "duration": 0.012699,
     "end_time": "2025-04-21T19:14:51.186800",
     "exception": false,
     "start_time": "2025-04-21T19:14:51.174101",
     "status": "completed"
    },
    "tags": []
   },
   "outputs": [],
   "source": [
    "#from ydata_profiling import ProfileReport\n",
    "#ProfileReport(df, title=\"Quick EDA\", minimal=True)"
   ]
  },
  {
   "cell_type": "code",
   "execution_count": 6,
   "id": "ed683d6a",
   "metadata": {
    "execution": {
     "iopub.execute_input": "2025-04-21T19:14:51.201019Z",
     "iopub.status.busy": "2025-04-21T19:14:51.200642Z",
     "iopub.status.idle": "2025-04-21T19:14:51.209801Z",
     "shell.execute_reply": "2025-04-21T19:14:51.208595Z"
    },
    "papermill": {
     "duration": 0.017737,
     "end_time": "2025-04-21T19:14:51.211335",
     "exception": false,
     "start_time": "2025-04-21T19:14:51.193598",
     "status": "completed"
    },
    "tags": []
   },
   "outputs": [
    {
     "name": "stdout",
     "output_type": "stream",
     "text": [
      "   feature1   feature2\n",
      "0         1   3.764052\n",
      "1         2   4.400157\n",
      "2         3   6.978738\n",
      "3         4  10.240893\n",
      "4         5  11.867558\n",
      "5         6  11.022722\n",
      "6         7  14.950088\n",
      "7         8  15.848643\n",
      "8         9  17.896781\n",
      "9        10  20.410599\n"
     ]
    }
   ],
   "source": [
    "X = df[[\"feature1\", \"feature2\"]] #features\n",
    "y = df[\"target_column\"] #target\n",
    "print (X)"
   ]
  },
  {
   "cell_type": "code",
   "execution_count": 7,
   "id": "c1b4e0de",
   "metadata": {
    "execution": {
     "iopub.execute_input": "2025-04-21T19:14:51.224817Z",
     "iopub.status.busy": "2025-04-21T19:14:51.224496Z",
     "iopub.status.idle": "2025-04-21T19:14:51.231842Z",
     "shell.execute_reply": "2025-04-21T19:14:51.230927Z"
    },
    "papermill": {
     "duration": 0.015745,
     "end_time": "2025-04-21T19:14:51.233340",
     "exception": false,
     "start_time": "2025-04-21T19:14:51.217595",
     "status": "completed"
    },
    "tags": []
   },
   "outputs": [],
   "source": [
    "from sklearn.model_selection import train_test_split\n",
    "\n",
    "X_train, X_test, y_train, y_test = train_test_split(X, y, test_size=0.5, random_state=136)"
   ]
  },
  {
   "cell_type": "code",
   "execution_count": 8,
   "id": "cbe96918",
   "metadata": {
    "execution": {
     "iopub.execute_input": "2025-04-21T19:14:51.246313Z",
     "iopub.status.busy": "2025-04-21T19:14:51.245992Z",
     "iopub.status.idle": "2025-04-21T19:14:51.250590Z",
     "shell.execute_reply": "2025-04-21T19:14:51.249561Z"
    },
    "papermill": {
     "duration": 0.012836,
     "end_time": "2025-04-21T19:14:51.252114",
     "exception": false,
     "start_time": "2025-04-21T19:14:51.239278",
     "status": "completed"
    },
    "tags": []
   },
   "outputs": [],
   "source": [
    "model = LinearRegression()"
   ]
  },
  {
   "cell_type": "code",
   "execution_count": 9,
   "id": "61edb898",
   "metadata": {
    "execution": {
     "iopub.execute_input": "2025-04-21T19:14:51.265016Z",
     "iopub.status.busy": "2025-04-21T19:14:51.264666Z",
     "iopub.status.idle": "2025-04-21T19:14:51.303631Z",
     "shell.execute_reply": "2025-04-21T19:14:51.302682Z"
    },
    "papermill": {
     "duration": 0.047203,
     "end_time": "2025-04-21T19:14:51.305280",
     "exception": false,
     "start_time": "2025-04-21T19:14:51.258077",
     "status": "completed"
    },
    "tags": []
   },
   "outputs": [
    {
     "data": {
      "text/html": [
       "<style>#sk-container-id-1 {color: black;background-color: white;}#sk-container-id-1 pre{padding: 0;}#sk-container-id-1 div.sk-toggleable {background-color: white;}#sk-container-id-1 label.sk-toggleable__label {cursor: pointer;display: block;width: 100%;margin-bottom: 0;padding: 0.3em;box-sizing: border-box;text-align: center;}#sk-container-id-1 label.sk-toggleable__label-arrow:before {content: \"▸\";float: left;margin-right: 0.25em;color: #696969;}#sk-container-id-1 label.sk-toggleable__label-arrow:hover:before {color: black;}#sk-container-id-1 div.sk-estimator:hover label.sk-toggleable__label-arrow:before {color: black;}#sk-container-id-1 div.sk-toggleable__content {max-height: 0;max-width: 0;overflow: hidden;text-align: left;background-color: #f0f8ff;}#sk-container-id-1 div.sk-toggleable__content pre {margin: 0.2em;color: black;border-radius: 0.25em;background-color: #f0f8ff;}#sk-container-id-1 input.sk-toggleable__control:checked~div.sk-toggleable__content {max-height: 200px;max-width: 100%;overflow: auto;}#sk-container-id-1 input.sk-toggleable__control:checked~label.sk-toggleable__label-arrow:before {content: \"▾\";}#sk-container-id-1 div.sk-estimator input.sk-toggleable__control:checked~label.sk-toggleable__label {background-color: #d4ebff;}#sk-container-id-1 div.sk-label input.sk-toggleable__control:checked~label.sk-toggleable__label {background-color: #d4ebff;}#sk-container-id-1 input.sk-hidden--visually {border: 0;clip: rect(1px 1px 1px 1px);clip: rect(1px, 1px, 1px, 1px);height: 1px;margin: -1px;overflow: hidden;padding: 0;position: absolute;width: 1px;}#sk-container-id-1 div.sk-estimator {font-family: monospace;background-color: #f0f8ff;border: 1px dotted black;border-radius: 0.25em;box-sizing: border-box;margin-bottom: 0.5em;}#sk-container-id-1 div.sk-estimator:hover {background-color: #d4ebff;}#sk-container-id-1 div.sk-parallel-item::after {content: \"\";width: 100%;border-bottom: 1px solid gray;flex-grow: 1;}#sk-container-id-1 div.sk-label:hover label.sk-toggleable__label {background-color: #d4ebff;}#sk-container-id-1 div.sk-serial::before {content: \"\";position: absolute;border-left: 1px solid gray;box-sizing: border-box;top: 0;bottom: 0;left: 50%;z-index: 0;}#sk-container-id-1 div.sk-serial {display: flex;flex-direction: column;align-items: center;background-color: white;padding-right: 0.2em;padding-left: 0.2em;position: relative;}#sk-container-id-1 div.sk-item {position: relative;z-index: 1;}#sk-container-id-1 div.sk-parallel {display: flex;align-items: stretch;justify-content: center;background-color: white;position: relative;}#sk-container-id-1 div.sk-item::before, #sk-container-id-1 div.sk-parallel-item::before {content: \"\";position: absolute;border-left: 1px solid gray;box-sizing: border-box;top: 0;bottom: 0;left: 50%;z-index: -1;}#sk-container-id-1 div.sk-parallel-item {display: flex;flex-direction: column;z-index: 1;position: relative;background-color: white;}#sk-container-id-1 div.sk-parallel-item:first-child::after {align-self: flex-end;width: 50%;}#sk-container-id-1 div.sk-parallel-item:last-child::after {align-self: flex-start;width: 50%;}#sk-container-id-1 div.sk-parallel-item:only-child::after {width: 0;}#sk-container-id-1 div.sk-dashed-wrapped {border: 1px dashed gray;margin: 0 0.4em 0.5em 0.4em;box-sizing: border-box;padding-bottom: 0.4em;background-color: white;}#sk-container-id-1 div.sk-label label {font-family: monospace;font-weight: bold;display: inline-block;line-height: 1.2em;}#sk-container-id-1 div.sk-label-container {text-align: center;}#sk-container-id-1 div.sk-container {/* jupyter's `normalize.less` sets `[hidden] { display: none; }` but bootstrap.min.css set `[hidden] { display: none !important; }` so we also need the `!important` here to be able to override the default hidden behavior on the sphinx rendered scikit-learn.org. See: https://github.com/scikit-learn/scikit-learn/issues/21755 */display: inline-block !important;position: relative;}#sk-container-id-1 div.sk-text-repr-fallback {display: none;}</style><div id=\"sk-container-id-1\" class=\"sk-top-container\"><div class=\"sk-text-repr-fallback\"><pre>LinearRegression()</pre><b>In a Jupyter environment, please rerun this cell to show the HTML representation or trust the notebook. <br />On GitHub, the HTML representation is unable to render, please try loading this page with nbviewer.org.</b></div><div class=\"sk-container\" hidden><div class=\"sk-item\"><div class=\"sk-estimator sk-toggleable\"><input class=\"sk-toggleable__control sk-hidden--visually\" id=\"sk-estimator-id-1\" type=\"checkbox\" checked><label for=\"sk-estimator-id-1\" class=\"sk-toggleable__label sk-toggleable__label-arrow\">LinearRegression</label><div class=\"sk-toggleable__content\"><pre>LinearRegression()</pre></div></div></div></div></div>"
      ],
      "text/plain": [
       "LinearRegression()"
      ]
     },
     "execution_count": 9,
     "metadata": {},
     "output_type": "execute_result"
    }
   ],
   "source": [
    "model.fit(X_train, y_train)"
   ]
  },
  {
   "cell_type": "code",
   "execution_count": 10,
   "id": "f183b8cd",
   "metadata": {
    "execution": {
     "iopub.execute_input": "2025-04-21T19:14:51.319050Z",
     "iopub.status.busy": "2025-04-21T19:14:51.318656Z",
     "iopub.status.idle": "2025-04-21T19:14:51.326543Z",
     "shell.execute_reply": "2025-04-21T19:14:51.325564Z"
    },
    "papermill": {
     "duration": 0.016898,
     "end_time": "2025-04-21T19:14:51.328307",
     "exception": false,
     "start_time": "2025-04-21T19:14:51.311409",
     "status": "completed"
    },
    "tags": []
   },
   "outputs": [],
   "source": [
    "y_pred = model.predict(X_test)"
   ]
  },
  {
   "cell_type": "code",
   "execution_count": 11,
   "id": "d9051dda",
   "metadata": {
    "execution": {
     "iopub.execute_input": "2025-04-21T19:14:51.341345Z",
     "iopub.status.busy": "2025-04-21T19:14:51.341020Z",
     "iopub.status.idle": "2025-04-21T19:14:51.649428Z",
     "shell.execute_reply": "2025-04-21T19:14:51.648435Z"
    },
    "papermill": {
     "duration": 0.316823,
     "end_time": "2025-04-21T19:14:51.651103",
     "exception": false,
     "start_time": "2025-04-21T19:14:51.334280",
     "status": "completed"
    },
    "tags": []
   },
   "outputs": [
    {
     "data": {
      "image/png": "[encoded data removed]",
      "text/plain": [
       "<Figure size 600x600 with 1 Axes>"
      ]
     },
     "metadata": {},
     "output_type": "display_data"
    }
   ],
   "source": [
    "import matplotlib.pyplot as plt\n",
    "\n",
    "# scatter of true vs. predicted\n",
    "plt.figure(figsize=(6,6))\n",
    "plt.scatter(y_test, y_pred, alpha=0.7)\n",
    "# reference line y=x\n",
    "lims = [min(y_test.min(), y_pred.min()), max(y_test.max(), y_pred.max())]\n",
    "plt.plot(lims, lims, 'r--', linewidth=1)\n",
    "plt.xlabel('Actual target')\n",
    "plt.ylabel('Predicted target')\n",
    "plt.title('Actual vs Predicted')\n",
    "plt.tight_layout()\n",
    "plt.show()"
   ]
  },
  {
   "cell_type": "markdown",
   "id": "14a2ad78",
   "metadata": {
    "papermill": {
     "duration": 0.006134,
     "end_time": "2025-04-21T19:14:51.663939",
     "exception": false,
     "start_time": "2025-04-21T19:14:51.657805",
     "status": "completed"
    },
    "tags": []
   },
   "source": [
    "Ok, let's redo this using the house data now and work through the example!"
   ]
  },
  {
   "cell_type": "code",
   "execution_count": 12,
   "id": "dc1c0c49",
   "metadata": {
    "execution": {
     "iopub.execute_input": "2025-04-21T19:14:51.677976Z",
     "iopub.status.busy": "2025-04-21T19:14:51.677585Z",
     "iopub.status.idle": "2025-04-21T19:14:51.688016Z",
     "shell.execute_reply": "2025-04-21T19:14:51.686843Z"
    },
    "papermill": {
     "duration": 0.019164,
     "end_time": "2025-04-21T19:14:51.689410",
     "exception": false,
     "start_time": "2025-04-21T19:14:51.670246",
     "status": "completed"
    },
    "tags": []
   },
   "outputs": [
    {
     "name": "stdout",
     "output_type": "stream",
     "text": [
      "<class 'pandas.core.frame.DataFrame'>\n",
      "RangeIndex: 414 entries, 0 to 413\n",
      "Data columns (total 6 columns):\n",
      " #   Column                                  Non-Null Count  Dtype  \n",
      "---  ------                                  --------------  -----  \n",
      " 0   X1 house age                            414 non-null    float64\n",
      " 1   X2 distance to the nearest MRT station  414 non-null    float64\n",
      " 2   X3 number of convenience stores         414 non-null    int64  \n",
      " 3   X4 latitude                             414 non-null    float64\n",
      " 4   X5 longitude                            414 non-null    float64\n",
      " 5   Y house price of unit area              414 non-null    float64\n",
      "dtypes: float64(5), int64(1)\n",
      "memory usage: 19.5 KB\n"
     ]
    }
   ],
   "source": [
    "df2.info()"
   ]
  },
  {
   "cell_type": "code",
   "execution_count": 13,
   "id": "b206cd69",
   "metadata": {
    "execution": {
     "iopub.execute_input": "2025-04-21T19:14:51.703780Z",
     "iopub.status.busy": "2025-04-21T19:14:51.703481Z",
     "iopub.status.idle": "2025-04-21T19:14:51.714604Z",
     "shell.execute_reply": "2025-04-21T19:14:51.713462Z"
    },
    "papermill": {
     "duration": 0.020336,
     "end_time": "2025-04-21T19:14:51.716381",
     "exception": false,
     "start_time": "2025-04-21T19:14:51.696045",
     "status": "completed"
    },
    "tags": []
   },
   "outputs": [
    {
     "name": "stdout",
     "output_type": "stream",
     "text": [
      "<class 'pandas.core.frame.DataFrame'>\n",
      "RangeIndex: 414 entries, 0 to 413\n",
      "Data columns (total 5 columns):\n",
      " #   Column                                  Non-Null Count  Dtype  \n",
      "---  ------                                  --------------  -----  \n",
      " 0   X1 house age                            414 non-null    float64\n",
      " 1   X2 distance to the nearest MRT station  414 non-null    float64\n",
      " 2   X3 number of convenience stores         414 non-null    int64  \n",
      " 3   X4 latitude                             414 non-null    float64\n",
      " 4   X5 longitude                            414 non-null    float64\n",
      "dtypes: float64(4), int64(1)\n",
      "memory usage: 16.3 KB\n"
     ]
    }
   ],
   "source": [
    "X2 = df2.drop(\"Y house price of unit area\", axis=1) #features\n",
    "y2 = df2[\"Y house price of unit area\"] #target\n",
    "X2.info()"
   ]
  },
  {
   "cell_type": "code",
   "execution_count": 14,
   "id": "1b79377e",
   "metadata": {
    "execution": {
     "iopub.execute_input": "2025-04-21T19:14:51.731803Z",
     "iopub.status.busy": "2025-04-21T19:14:51.731484Z",
     "iopub.status.idle": "2025-04-21T19:14:51.739225Z",
     "shell.execute_reply": "2025-04-21T19:14:51.738294Z"
    },
    "papermill": {
     "duration": 0.017659,
     "end_time": "2025-04-21T19:14:51.740925",
     "exception": false,
     "start_time": "2025-04-21T19:14:51.723266",
     "status": "completed"
    },
    "tags": []
   },
   "outputs": [],
   "source": [
    "from sklearn.model_selection import train_test_split\n",
    "X2_train, X2_test, y2_train, y2_test = train_test_split(X2,y2,random_state=136)"
   ]
  },
  {
   "cell_type": "code",
   "execution_count": 15,
   "id": "b2a75f1e",
   "metadata": {
    "execution": {
     "iopub.execute_input": "2025-04-21T19:14:51.755830Z",
     "iopub.status.busy": "2025-04-21T19:14:51.755506Z",
     "iopub.status.idle": "2025-04-21T19:14:51.766306Z",
     "shell.execute_reply": "2025-04-21T19:14:51.765299Z"
    },
    "papermill": {
     "duration": 0.020474,
     "end_time": "2025-04-21T19:14:51.768198",
     "exception": false,
     "start_time": "2025-04-21T19:14:51.747724",
     "status": "completed"
    },
    "tags": []
   },
   "outputs": [
    {
     "data": {
      "text/html": [
       "<style>#sk-container-id-2 {color: black;background-color: white;}#sk-container-id-2 pre{padding: 0;}#sk-container-id-2 div.sk-toggleable {background-color: white;}#sk-container-id-2 label.sk-toggleable__label {cursor: pointer;display: block;width: 100%;margin-bottom: 0;padding: 0.3em;box-sizing: border-box;text-align: center;}#sk-container-id-2 label.sk-toggleable__label-arrow:before {content: \"▸\";float: left;margin-right: 0.25em;color: #696969;}#sk-container-id-2 label.sk-toggleable__label-arrow:hover:before {color: black;}#sk-container-id-2 div.sk-estimator:hover label.sk-toggleable__label-arrow:before {color: black;}#sk-container-id-2 div.sk-toggleable__content {max-height: 0;max-width: 0;overflow: hidden;text-align: left;background-color: #f0f8ff;}#sk-container-id-2 div.sk-toggleable__content pre {margin: 0.2em;color: black;border-radius: 0.25em;background-color: #f0f8ff;}#sk-container-id-2 input.sk-toggleable__control:checked~div.sk-toggleable__content {max-height: 200px;max-width: 100%;overflow: auto;}#sk-container-id-2 input.sk-toggleable__control:checked~label.sk-toggleable__label-arrow:before {content: \"▾\";}#sk-container-id-2 div.sk-estimator input.sk-toggleable__control:checked~label.sk-toggleable__label {background-color: #d4ebff;}#sk-container-id-2 div.sk-label input.sk-toggleable__control:checked~label.sk-toggleable__label {background-color: #d4ebff;}#sk-container-id-2 input.sk-hidden--visually {border: 0;clip: rect(1px 1px 1px 1px);clip: rect(1px, 1px, 1px, 1px);height: 1px;margin: -1px;overflow: hidden;padding: 0;position: absolute;width: 1px;}#sk-container-id-2 div.sk-estimator {font-family: monospace;background-color: #f0f8ff;border: 1px dotted black;border-radius: 0.25em;box-sizing: border-box;margin-bottom: 0.5em;}#sk-container-id-2 div.sk-estimator:hover {background-color: #d4ebff;}#sk-container-id-2 div.sk-parallel-item::after {content: \"\";width: 100%;border-bottom: 1px solid gray;flex-grow: 1;}#sk-container-id-2 div.sk-label:hover label.sk-toggleable__label {background-color: #d4ebff;}#sk-container-id-2 div.sk-serial::before {content: \"\";position: absolute;border-left: 1px solid gray;box-sizing: border-box;top: 0;bottom: 0;left: 50%;z-index: 0;}#sk-container-id-2 div.sk-serial {display: flex;flex-direction: column;align-items: center;background-color: white;padding-right: 0.2em;padding-left: 0.2em;position: relative;}#sk-container-id-2 div.sk-item {position: relative;z-index: 1;}#sk-container-id-2 div.sk-parallel {display: flex;align-items: stretch;justify-content: center;background-color: white;position: relative;}#sk-container-id-2 div.sk-item::before, #sk-container-id-2 div.sk-parallel-item::before {content: \"\";position: absolute;border-left: 1px solid gray;box-sizing: border-box;top: 0;bottom: 0;left: 50%;z-index: -1;}#sk-container-id-2 div.sk-parallel-item {display: flex;flex-direction: column;z-index: 1;position: relative;background-color: white;}#sk-container-id-2 div.sk-parallel-item:first-child::after {align-self: flex-end;width: 50%;}#sk-container-id-2 div.sk-parallel-item:last-child::after {align-self: flex-start;width: 50%;}#sk-container-id-2 div.sk-parallel-item:only-child::after {width: 0;}#sk-container-id-2 div.sk-dashed-wrapped {border: 1px dashed gray;margin: 0 0.4em 0.5em 0.4em;box-sizing: border-box;padding-bottom: 0.4em;background-color: white;}#sk-container-id-2 div.sk-label label {font-family: monospace;font-weight: bold;display: inline-block;line-height: 1.2em;}#sk-container-id-2 div.sk-label-container {text-align: center;}#sk-container-id-2 div.sk-container {/* jupyter's `normalize.less` sets `[hidden] { display: none; }` but bootstrap.min.css set `[hidden] { display: none !important; }` so we also need the `!important` here to be able to override the default hidden behavior on the sphinx rendered scikit-learn.org. See: https://github.com/scikit-learn/scikit-learn/issues/21755 */display: inline-block !important;position: relative;}#sk-container-id-2 div.sk-text-repr-fallback {display: none;}</style><div id=\"sk-container-id-2\" class=\"sk-top-container\"><div class=\"sk-text-repr-fallback\"><pre>LinearRegression()</pre><b>In a Jupyter environment, please rerun this cell to show the HTML representation or trust the notebook. <br />On GitHub, the HTML representation is unable to render, please try loading this page with nbviewer.org.</b></div><div class=\"sk-container\" hidden><div class=\"sk-item\"><div class=\"sk-estimator sk-toggleable\"><input class=\"sk-toggleable__control sk-hidden--visually\" id=\"sk-estimator-id-2\" type=\"checkbox\" checked><label for=\"sk-estimator-id-2\" class=\"sk-toggleable__label sk-toggleable__label-arrow\">LinearRegression</label><div class=\"sk-toggleable__content\"><pre>LinearRegression()</pre></div></div></div></div></div>"
      ],
      "text/plain": [
       "LinearRegression()"
      ]
     },
     "execution_count": 15,
     "metadata": {},
     "output_type": "execute_result"
    }
   ],
   "source": [
    "model = LinearRegression()\n",
    "model.fit(X2_train,y2_train)"
   ]
  },
  {
   "cell_type": "code",
   "execution_count": 16,
   "id": "4daf191f",
   "metadata": {
    "execution": {
     "iopub.execute_input": "2025-04-21T19:14:51.783547Z",
     "iopub.status.busy": "2025-04-21T19:14:51.782798Z",
     "iopub.status.idle": "2025-04-21T19:14:51.790684Z",
     "shell.execute_reply": "2025-04-21T19:14:51.789696Z"
    },
    "papermill": {
     "duration": 0.017362,
     "end_time": "2025-04-21T19:14:51.792478",
     "exception": false,
     "start_time": "2025-04-21T19:14:51.775116",
     "status": "completed"
    },
    "tags": []
   },
   "outputs": [],
   "source": [
    "y2_pred_train = model.predict(X2_train)\n",
    "y2_pred_test = model.predict(X2_test)"
   ]
  },
  {
   "cell_type": "code",
   "execution_count": 17,
   "id": "fe07b69f",
   "metadata": {
    "execution": {
     "iopub.execute_input": "2025-04-21T19:14:51.808783Z",
     "iopub.status.busy": "2025-04-21T19:14:51.808469Z",
     "iopub.status.idle": "2025-04-21T19:14:52.129204Z",
     "shell.execute_reply": "2025-04-21T19:14:52.128263Z"
    },
    "papermill": {
     "duration": 0.330073,
     "end_time": "2025-04-21T19:14:52.130699",
     "exception": false,
     "start_time": "2025-04-21T19:14:51.800626",
     "status": "completed"
    },
    "tags": []
   },
   "outputs": [
    {
     "data": {
      "image/png": "[encoded data removed]",
      "text/plain": [
       "<Figure size 600x600 with 1 Axes>"
      ]
     },
     "metadata": {},
     "output_type": "display_data"
    }
   ],
   "source": [
    "# scatter of true vs. predicted\n",
    "plt.figure(figsize=(6,6))\n",
    "plt.scatter(y2_test, y2_pred_test, alpha=0.7)\n",
    "# reference line y=x\n",
    "lims = [min(y2_test.min(), y2_pred_test.min()), max(y2_test.max(), y2_pred_test.max())]\n",
    "plt.plot(lims, lims, 'r--', linewidth=1)\n",
    "plt.xlabel('Actual target')\n",
    "plt.ylabel('Predicted target')\n",
    "plt.title('Actual vs Predicted')\n",
    "plt.tight_layout()\n",
    "plt.show()"
   ]
  },
  {
   "cell_type": "code",
   "execution_count": 18,
   "id": "f41305dd",
   "metadata": {
    "execution": {
     "iopub.execute_input": "2025-04-21T19:14:52.147209Z",
     "iopub.status.busy": "2025-04-21T19:14:52.146835Z",
     "iopub.status.idle": "2025-04-21T19:14:52.154277Z",
     "shell.execute_reply": "2025-04-21T19:14:52.153227Z"
    },
    "papermill": {
     "duration": 0.017497,
     "end_time": "2025-04-21T19:14:52.155905",
     "exception": false,
     "start_time": "2025-04-21T19:14:52.138408",
     "status": "completed"
    },
    "tags": []
   },
   "outputs": [
    {
     "name": "stdout",
     "output_type": "stream",
     "text": [
      "The MSE for the train set is 78.7927088172362\n",
      "The MSE for the test set is 84.3171290312782\n"
     ]
    }
   ],
   "source": [
    "from sklearn.metrics import mean_squared_error\n",
    "\n",
    "# Your code here...\n",
    "print(f\"The MSE for the train set is {mean_squared_error(y2_train, y2_pred_train)}\")\n",
    "print(f\"The MSE for the test set is {mean_squared_error(y2_test, y2_pred_test)}\")"
   ]
  },
  {
   "cell_type": "code",
   "execution_count": 19,
   "id": "81aa2a79",
   "metadata": {
    "execution": {
     "iopub.execute_input": "2025-04-21T19:14:52.172295Z",
     "iopub.status.busy": "2025-04-21T19:14:52.171977Z",
     "iopub.status.idle": "2025-04-21T19:14:52.178750Z",
     "shell.execute_reply": "2025-04-21T19:14:52.177697Z"
    },
    "papermill": {
     "duration": 0.016829,
     "end_time": "2025-04-21T19:14:52.180299",
     "exception": false,
     "start_time": "2025-04-21T19:14:52.163470",
     "status": "completed"
    },
    "tags": []
   },
   "outputs": [
    {
     "name": "stdout",
     "output_type": "stream",
     "text": [
      "Generalization gap: 5.52\n",
      "Relative gap: 7.0%\n"
     ]
    }
   ],
   "source": [
    "train_mse = mean_squared_error(y2_train, y2_pred_train)\n",
    "test_mse  = mean_squared_error(y2_test,  y2_pred_test)\n",
    "\n",
    "gap = test_mse - train_mse\n",
    "rel_gap = gap / train_mse * 100\n",
    "\n",
    "print(f\"Generalization gap: {gap:.2f}\")\n",
    "print(f\"Relative gap: {rel_gap:.1f}%\")"
   ]
  },
  {
   "cell_type": "markdown",
   "id": "4842874f",
   "metadata": {
    "papermill": {
     "duration": 0.007272,
     "end_time": "2025-04-21T19:14:52.195400",
     "exception": false,
     "start_time": "2025-04-21T19:14:52.188128",
     "status": "completed"
    },
    "tags": []
   },
   "source": [
    ">10% relative difference is fine for demo purposes."
   ]
  },
  {
   "cell_type": "code",
   "execution_count": 20,
   "id": "803ce0a1",
   "metadata": {
    "execution": {
     "iopub.execute_input": "2025-04-21T19:14:52.212026Z",
     "iopub.status.busy": "2025-04-21T19:14:52.211697Z",
     "iopub.status.idle": "2025-04-21T19:14:52.253191Z",
     "shell.execute_reply": "2025-04-21T19:14:52.251837Z"
    },
    "papermill": {
     "duration": 0.051852,
     "end_time": "2025-04-21T19:14:52.254768",
     "exception": false,
     "start_time": "2025-04-21T19:14:52.202916",
     "status": "completed"
    },
    "tags": []
   },
   "outputs": [
    {
     "name": "stdout",
     "output_type": "stream",
     "text": [
      "Train MSE  : 79.01097203137462 ± 10.344000489408922\n",
      "Val MSE    : 80.94553966935999 ± 41.13547489888018\n",
      "Gap (mean): 1.9345676379853671\n"
     ]
    }
   ],
   "source": [
    "from sklearn.model_selection import cross_validate\n",
    "\n",
    "cv_results = cross_validate(\n",
    "    model, X2, y2,\n",
    "    scoring=\"neg_mean_squared_error\",\n",
    "    return_train_score=True,\n",
    "    cv=5\n",
    ")\n",
    "\n",
    "train_scores = -cv_results[\"train_score\"]\n",
    "val_scores   = -cv_results[\"test_score\"]\n",
    "\n",
    "print(\"Train MSE  :\", train_scores.mean(), \"±\", train_scores.std())\n",
    "print(\"Val MSE    :\", val_scores.mean(),   \"±\", val_scores.std())\n",
    "print(\"Gap (mean):\", (val_scores.mean() - train_scores.mean()))"
   ]
  },
  {
   "cell_type": "markdown",
   "id": "08af3075",
   "metadata": {
    "papermill": {
     "duration": 0.007424,
     "end_time": "2025-04-21T19:14:52.270513",
     "exception": false,
     "start_time": "2025-04-21T19:14:52.263089",
     "status": "completed"
    },
    "tags": []
   },
   "source": [
    "## My Conclusion\n",
    "* Mean MSEs are nearly identical, showing no strong sign of overfitting in model. That the MSE is lower for Train MSE than Test MSE shows that it's slightly better at the train data, as would be expected.\n",
    "* Huge overlap of the validated MSE Standard Errors show low confidence of this conclusion due to an underpowered sample size.\n",
    "\n",
    "AI-based conclusion:\n",
    "\n",
    "\"Our model’s average prediction error on unseen data is about the same as on the training data (MSE ≈ 80), and the mean generalization gap is very small (≈ 2). However, the high variance in validation errors (± 41) indicates that, given our current dataset size, we lack the statistical power to be certain there isn’t a modest over‑ or under‑fit. Collecting more data or using more stable error estimates (e.g. repeated CV) would tighten those confidence limits.\""
   ]
  },
  {
   "cell_type": "markdown",
   "id": "7325bacc",
   "metadata": {
    "papermill": {
     "duration": 0.007693,
     "end_time": "2025-04-21T19:14:52.286014",
     "exception": false,
     "start_time": "2025-04-21T19:14:52.278321",
     "status": "completed"
    },
    "tags": []
   },
   "source": [
    "Let's examine the coefficients of features in the model."
   ]
  },
  {
   "cell_type": "code",
   "execution_count": 21,
   "id": "def68e4c",
   "metadata": {
    "execution": {
     "iopub.execute_input": "2025-04-21T19:14:52.302741Z",
     "iopub.status.busy": "2025-04-21T19:14:52.302431Z",
     "iopub.status.idle": "2025-04-21T19:14:52.313933Z",
     "shell.execute_reply": "2025-04-21T19:14:52.313033Z"
    },
    "papermill": {
     "duration": 0.021937,
     "end_time": "2025-04-21T19:14:52.315515",
     "exception": false,
     "start_time": "2025-04-21T19:14:52.293578",
     "status": "completed"
    },
    "tags": []
   },
   "outputs": [
    {
     "data": {
      "text/html": [
       "<div>\n",
       "<style scoped>\n",
       "    .dataframe tbody tr th:only-of-type {\n",
       "        vertical-align: middle;\n",
       "    }\n",
       "\n",
       "    .dataframe tbody tr th {\n",
       "        vertical-align: top;\n",
       "    }\n",
       "\n",
       "    .dataframe thead th {\n",
       "        text-align: right;\n",
       "    }\n",
       "</style>\n",
       "<table border=\"1\" class=\"dataframe\">\n",
       "  <thead>\n",
       "    <tr style=\"text-align: right;\">\n",
       "      <th></th>\n",
       "      <th>Coefficient</th>\n",
       "    </tr>\n",
       "  </thead>\n",
       "  <tbody>\n",
       "    <tr>\n",
       "      <th>X1 house age</th>\n",
       "      <td>-0.286952</td>\n",
       "    </tr>\n",
       "    <tr>\n",
       "      <th>X2 distance to the nearest MRT station</th>\n",
       "      <td>-0.005432</td>\n",
       "    </tr>\n",
       "    <tr>\n",
       "      <th>X3 number of convenience stores</th>\n",
       "      <td>0.883835</td>\n",
       "    </tr>\n",
       "    <tr>\n",
       "      <th>X4 latitude</th>\n",
       "      <td>198.122832</td>\n",
       "    </tr>\n",
       "    <tr>\n",
       "      <th>X5 longitude</th>\n",
       "      <td>-23.446030</td>\n",
       "    </tr>\n",
       "    <tr>\n",
       "      <th>intercept</th>\n",
       "      <td>-2052.114040</td>\n",
       "    </tr>\n",
       "  </tbody>\n",
       "</table>\n",
       "</div>"
      ],
      "text/plain": [
       "                                        Coefficient\n",
       "X1 house age                              -0.286952\n",
       "X2 distance to the nearest MRT station    -0.005432\n",
       "X3 number of convenience stores            0.883835\n",
       "X4 latitude                              198.122832\n",
       "X5 longitude                             -23.446030\n",
       "intercept                              -2052.114040"
      ]
     },
     "execution_count": 21,
     "metadata": {},
     "output_type": "execute_result"
    }
   ],
   "source": [
    "coef_values = pd.DataFrame(data=model.coef_, index=X2.columns, columns=['Coefficient'])\n",
    "coef_values.loc['intercept'] = model.intercept_\n",
    "coef_values"
   ]
  },
  {
   "cell_type": "markdown",
   "id": "e8018a86",
   "metadata": {
    "papermill": {
     "duration": 0.007499,
     "end_time": "2025-04-21T19:14:52.331190",
     "exception": false,
     "start_time": "2025-04-21T19:14:52.323691",
     "status": "completed"
    },
    "tags": []
   },
   "source": [
    "Latitude has the strongest positive correlation with Y house price of unit area, so increase in latitude strongly increases house price on average. Longitude has the strongest negative correlation, but it's far less than latitude. The other variables are near 0 and so do not seem to have much effect on house price. The reason this could be is maybe because latitude takes us to different countries/states/provinces where regional pricing varies, whereas longitude more often takes us to colder more northern areas where houses have lower demand. It's hard to actually know this at all though without significantly more context and data to drive these predictions."
   ]
  },
  {
   "cell_type": "markdown",
   "id": "cc153011",
   "metadata": {
    "papermill": {
     "duration": 0.007898,
     "end_time": "2025-04-21T19:14:52.347224",
     "exception": false,
     "start_time": "2025-04-21T19:14:52.339326",
     "status": "completed"
    },
    "tags": []
   },
   "source": [
    "### BUT I NEED TO SCALE THE COEFFICIENTS to get a realistic comparison of the effect of coefficients on the target value, to control for large changes in the different units used for each feature"
   ]
  },
  {
   "cell_type": "code",
   "execution_count": null,
   "id": "6d0f07b7",
   "metadata": {
    "papermill": {
     "duration": 0.008028,
     "end_time": "2025-04-21T19:14:52.363740",
     "exception": false,
     "start_time": "2025-04-21T19:14:52.355712",
     "status": "completed"
    },
    "tags": []
   },
   "outputs": [],
   "source": []
  }
 ],
 "metadata": {
  "kaggle": {
   "accelerator": "none",
   "dataSources": [
    {
     "datasetId": 7212572,
     "sourceId": 11503887,
     "sourceType": "datasetVersion"
    },
    {
     "datasetId": 7212712,
     "sourceId": 11504075,
     "sourceType": "datasetVersion"
    }
   ],
   "dockerImageVersionId": 31012,
   "isGpuEnabled": false,
   "isInternetEnabled": false,
   "language": "python",
   "sourceType": "notebook"
  },
  "kernelspec": {
   "display_name": "Python 3",
   "language": "python",
   "name": "python3"
  },
  "language_info": {
   "codemirror_mode": {
    "name": "ipython",
    "version": 3
   },
   "file_extension": ".py",
   "mimetype": "text/x-python",
   "name": "python",
   "nbconvert_exporter": "python",
   "pygments_lexer": "ipython3",
   "version": "3.11.11"
  },
  "papermill": {
   "default_parameters": {},
   "duration": 10.625573,
   "end_time": "2025-04-21T19:14:52.991017",
   "environment_variables": {},
   "exception": null,
   "input_path": "__notebook__.ipynb",
   "output_path": "__notebook__.ipynb",
   "parameters": {},
   "start_time": "2025-04-21T19:14:42.365444",
   "version": "2.6.0"
  }
 },
 "nbformat": 4,
 "nbformat_minor": 5
}
